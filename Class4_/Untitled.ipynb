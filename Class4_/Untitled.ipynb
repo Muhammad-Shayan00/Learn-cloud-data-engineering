{
 "cells": [
  {
   "cell_type": "markdown",
   "id": "0472ee5d",
   "metadata": {},
   "source": [
    "# List"
   ]
  },
  {
   "cell_type": "markdown",
   "id": "d859c3a8",
   "metadata": {},
   "source": [
    "## basic methord"
   ]
  },
  {
   "cell_type": "code",
   "execution_count": 14,
   "id": "356500ef-c5d3-4a61-bf21-b1ff6c4e3bbb",
   "metadata": {},
   "outputs": [
    {
     "name": "stdout",
     "output_type": "stream",
     "text": [
      "['Karachi', 'lahore', 'Islamabad']\n",
      "['Karachi', 'lahore', 'Islamabad', 'Faisalabad']\n",
      "['Karachi', 'lahore', 'Islamabad', 'Faisalabad']\n",
      "['Karachi', 'Islamabad', 'Faisalabad']\n"
     ]
    }
   ],
   "source": [
    "city_names=[\"Karachi\",\"lahore\",\"Islamabad\"]\n",
    "print(city_names)\n",
    "city_names.append(\"Faisalabad\")\n",
    "print(city_names)\n",
    "#city_names.extend(\"lahore\")\n",
    "print(city_names)\n",
    "city_names.index(\"Karachi\")\n",
    "city_names.pop(1)\n",
    "print(city_names)"
   ]
  },
  {
   "cell_type": "markdown",
   "id": "85d38f76",
   "metadata": {},
   "source": [
    "## shallow & deep copy"
   ]
  },
  {
   "cell_type": "code",
   "execution_count": null,
   "id": "c1f1b8f0",
   "metadata": {},
   "outputs": [
    {
     "name": "stdout",
     "output_type": "stream",
     "text": [
      "Original: [['Gwadar', 'Peshawar'], ['Karachi', 'Lahore']]\n",
      "Shallow copy: [['Gwadar', 'Peshawar'], ['Karachi', 'Lahore']]\n",
      "Deep copy: [['Quetta', 'Peshawar'], ['Karachi', 'Lahore']]\n"
     ]
    }
   ],
   "source": [
    "import copy\n",
    "\n",
    "# Original nested list\n",
    "cities = [[\"Quetta\", \"Peshawar\"], [\"Karachi\", \"Lahore\"]]\n",
    "shallow_cities = copy.copy(cities)#does change when we change original(contain refrence)\n",
    "deep_cities = copy.deepcopy(cities)#doesn't change when we change original(don'tcontain refrence)\n",
    "cities[0][0] = \"Gwadar\"\n",
    "print(\"Original:\", cities)\n",
    "print(\"Shallow copy:\", shallow_cities) \n",
    "print(\"Deep copy:\", deep_cities)        \n"
   ]
  },
  {
   "cell_type": "markdown",
   "id": "acfd15b4",
   "metadata": {},
   "source": [
    "## spliting the list"
   ]
  },
  {
   "cell_type": "code",
   "execution_count": 30,
   "id": "e717cd73",
   "metadata": {},
   "outputs": [
    {
     "name": "stdout",
     "output_type": "stream",
     "text": [
      "['abdullah', 'mushtaq']\n",
      "['shayan', 'abdullah', 'mushtaq', 'xyz']\n"
     ]
    }
   ],
   "source": [
    "name=[\"shayan\",\"abdullah\",\"mushtaq\",\"xyz\"]\n",
    "print(name[1:3])\n",
    "print(name)"
   ]
  },
  {
   "cell_type": "markdown",
   "id": "02b6ab82",
   "metadata": {},
   "source": [
    "# Tuples"
   ]
  },
  {
   "cell_type": "markdown",
   "id": "9a81b63b",
   "metadata": {},
   "source": [
    "Tuples is same as lists (array) but they can't be change (immutable)"
   ]
  },
  {
   "cell_type": "code",
   "execution_count": null,
   "id": "deb0edbd",
   "metadata": {},
   "outputs": [
    {
     "name": "stdout",
     "output_type": "stream",
     "text": [
      "('lion', 'cat', 'dog', 'fox')\n"
     ]
    }
   ],
   "source": [
    "animal=(\"lion\",\"cat\",\"dog\",\"fox\")\n",
    "print(animal)\n"
   ]
  },
  {
   "cell_type": "markdown",
   "id": "dbd4a8de",
   "metadata": {},
   "source": [
    "# Sets"
   ]
  },
  {
   "cell_type": "code",
   "execution_count": 48,
   "id": "f78d6766",
   "metadata": {},
   "outputs": [
    {
     "name": "stdout",
     "output_type": "stream",
     "text": [
      "{1, 2, 3, 4, 5, 6, 8, 9, 10}\n",
      "{4, 6}\n",
      "{1, 3, 5, 9}\n",
      "{1, 2, 3, 5, 8, 9, 10}\n"
     ]
    }
   ],
   "source": [
    "a={1,3,4,5,6,9}\n",
    "b={2,4,6,8,10}\n",
    "universal_set={1,2,3,4,5,6,7,8,9,10,11,12}\n",
    "\n",
    "print(a | b)   # Union\n",
    "print(a & b)   # Intersection\n",
    "print(a - b)   # Difference \n",
    "print(a ^ b)   # Symmetric difference\n",
    "\n",
    "\n",
    "\n"
   ]
  },
  {
   "cell_type": "code",
   "execution_count": 49,
   "id": "bd5f73cb",
   "metadata": {},
   "outputs": [
    {
     "name": "stdout",
     "output_type": "stream",
     "text": [
      "{1, 3, 4, 5, 6, 7, 9}\n",
      "{1, 3, 4, 5, 6, 7, 8, 9, 11}\n",
      "{1, 4, 5, 6, 7, 8, 9, 11}\n",
      "{1, 4, 5, 6, 7, 8, 9, 11}\n",
      "set()\n"
     ]
    }
   ],
   "source": [
    "a.add(7)      \n",
    "print(a)         # Add one item to set a\n",
    "a.update([8, 11])      # Add multiple items to set a\n",
    "print(a)  \n",
    "a.remove(3)            # Remove 3 from set a (error if not found)\n",
    "print(a)  \n",
    "a.discard(15)          # Remove 15 from set a (no error if not found)\n",
    "print(a)  \n",
    "a.clear()              # Remove all elements from set a\n",
    "print(a)  \n"
   ]
  },
  {
   "cell_type": "code",
   "execution_count": null,
   "id": "9bef8da9",
   "metadata": {},
   "outputs": [],
   "source": []
  }
 ],
 "metadata": {
  "kernelspec": {
   "display_name": "base",
   "language": "python",
   "name": "python3"
  },
  "language_info": {
   "codemirror_mode": {
    "name": "ipython",
    "version": 3
   },
   "file_extension": ".py",
   "mimetype": "text/x-python",
   "name": "python",
   "nbconvert_exporter": "python",
   "pygments_lexer": "ipython3",
   "version": "3.13.5"
  }
 },
 "nbformat": 4,
 "nbformat_minor": 5
}

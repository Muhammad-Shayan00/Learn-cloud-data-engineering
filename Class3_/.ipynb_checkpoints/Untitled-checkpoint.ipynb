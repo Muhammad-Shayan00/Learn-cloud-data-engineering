{
 "cells": [
  {
   "cell_type": "markdown",
   "id": "77d466bc-0f43-407f-8a8e-9bcc77b136ec",
   "metadata": {},
   "source": [
    "# Class 3"
   ]
  },
  {
   "cell_type": "code",
   "execution_count": 4,
   "id": "53e8cea4-e3a6-4bfe-a98e-9899189f6556",
   "metadata": {},
   "outputs": [
    {
     "name": "stdout",
     "output_type": "stream",
     "text": [
      "my name is shayan mushtaq\n",
      "my name is shayan mushtaq\n"
     ]
    }
   ],
   "source": [
    "first_name= \"shayan\"\n",
    "last_name=\"mushtaq\"\n",
    "\n",
    "print(\"my name is \"+first_name+\" \"+last_name)\n",
    "print(f\"my name is {first_name} {last_name}\")"
   ]
  },
  {
   "cell_type": "markdown",
   "id": "ff931589-90bb-4cbb-b7a5-752e69461b67",
   "metadata": {
    "jp-MarkdownHeadingCollapsed": true
   },
   "source": [
    "## Input\n"
   ]
  },
  {
   "cell_type": "code",
   "execution_count": 11,
   "id": "bf2cf7be-788e-406c-bbee-84a946cf816c",
   "metadata": {},
   "outputs": [
    {
     "name": "stdin",
     "output_type": "stream",
     "text": [
      "Enter your age: 3\n"
     ]
    },
    {
     "name": "stdout",
     "output_type": "stream",
     "text": [
      "6\n"
     ]
    }
   ],
   "source": [
    "age=int(input(\"Enter your age:\"))\n",
    "age=age+3\n",
    "print(age)"
   ]
  },
  {
   "cell_type": "markdown",
   "id": "21d369e1-bc1f-4946-921b-d846da5cbb2e",
   "metadata": {},
   "source": [
    "## If-Else"
   ]
  },
  {
   "cell_type": "code",
   "execution_count": 14,
   "id": "87cf76ee-6ce4-41ef-a7f2-574d2dd15f9e",
   "metadata": {},
   "outputs": [
    {
     "name": "stdout",
     "output_type": "stream",
     "text": [
      "you are eligible\n"
     ]
    }
   ],
   "source": [
    "if age==6:\n",
    "    print(\"you are eligible\")\n",
    "else:\n",
    "    print(\"no you are not\")"
   ]
  },
  {
   "cell_type": "code",
   "execution_count": null,
   "id": "c76760dc-198f-4a99-a701-71f3a8edd7ff",
   "metadata": {},
   "outputs": [],
   "source": [
    "number=int(input(\"Enter the number\"))\n",
    "if "
   ]
  }
 ],
 "metadata": {
  "kernelspec": {
   "display_name": "Python 3 (ipykernel)",
   "language": "python",
   "name": "python3"
  },
  "language_info": {
   "codemirror_mode": {
    "name": "ipython",
    "version": 3
   },
   "file_extension": ".py",
   "mimetype": "text/x-python",
   "name": "python",
   "nbconvert_exporter": "python",
   "pygments_lexer": "ipython3",
   "version": "3.13.5"
  }
 },
 "nbformat": 4,
 "nbformat_minor": 5
}

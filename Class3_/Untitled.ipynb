{
 "cells": [
  {
   "cell_type": "markdown",
   "id": "77d466bc-0f43-407f-8a8e-9bcc77b136ec",
   "metadata": {},
   "source": [
    "# Class 3"
   ]
  },
  {
   "cell_type": "code",
   "execution_count": 4,
   "id": "53e8cea4-e3a6-4bfe-a98e-9899189f6556",
   "metadata": {},
   "outputs": [
    {
     "name": "stdout",
     "output_type": "stream",
     "text": [
      "my name is shayan mushtaq\n",
      "my name is shayan mushtaq\n"
     ]
    }
   ],
   "source": [
    "first_name= \"shayan\"\n",
    "last_name=\"mushtaq\"\n",
    "\n",
    "print(\"my name is \"+first_name+\" \"+last_name)\n",
    "print(f\"my name is {first_name} {last_name}\")"
   ]
  },
  {
   "cell_type": "markdown",
   "id": "ff931589-90bb-4cbb-b7a5-752e69461b67",
   "metadata": {
    "jp-MarkdownHeadingCollapsed": true
   },
   "source": [
    "## Input\n"
   ]
  },
  {
   "cell_type": "code",
   "execution_count": 11,
   "id": "bf2cf7be-788e-406c-bbee-84a946cf816c",
   "metadata": {},
   "outputs": [
    {
     "name": "stdin",
     "output_type": "stream",
     "text": [
      "Enter your age: 3\n"
     ]
    },
    {
     "name": "stdout",
     "output_type": "stream",
     "text": [
      "6\n"
     ]
    }
   ],
   "source": [
    "age=int(input(\"Enter your age:\"))\n",
    "age=age+3\n",
    "print(age)"
   ]
  },
  {
   "cell_type": "markdown",
   "id": "21d369e1-bc1f-4946-921b-d846da5cbb2e",
   "metadata": {},
   "source": [
    "## If-Else"
   ]
  },
  {
   "cell_type": "code",
   "execution_count": 14,
   "id": "87cf76ee-6ce4-41ef-a7f2-574d2dd15f9e",
   "metadata": {},
   "outputs": [
    {
     "name": "stdout",
     "output_type": "stream",
     "text": [
      "you are eligible\n"
     ]
    }
   ],
   "source": [
    "if age==6:\n",
    "    print(\"you are eligible\")\n",
    "else:\n",
    "    print(\"no you are not\")"
   ]
  },
  {
   "cell_type": "code",
   "execution_count": 16,
   "id": "c76760dc-198f-4a99-a701-71f3a8edd7ff",
   "metadata": {},
   "outputs": [
    {
     "name": "stdin",
     "output_type": "stream",
     "text": [
      "Enter the number 4\n"
     ]
    },
    {
     "name": "stdout",
     "output_type": "stream",
     "text": [
      "number is even\n"
     ]
    }
   ],
   "source": [
    "number=int(input(\"Enter the number\"))\n",
    "if number%2==0:\n",
    "    print(\"number is even\")\n",
    "else:\n",
    "    print(\"number is odd\")"
   ]
  },
  {
   "cell_type": "code",
   "execution_count": 17,
   "id": "a2abf74c-1781-41da-ad2f-d8f6b95f63fe",
   "metadata": {},
   "outputs": [
    {
     "name": "stdin",
     "output_type": "stream",
     "text": [
      "Enter the number 14\n"
     ]
    },
    {
     "name": "stdout",
     "output_type": "stream",
     "text": [
      "number is divisible by 7\n"
     ]
    }
   ],
   "source": [
    "number1=int(input(\"Enter the number\"))\n",
    "if number1%7==0:\n",
    "    print(\"number is divisible by 7\")\n",
    "else:\n",
    "    print(\"number is not divisible by 7\")"
   ]
  },
  {
   "cell_type": "code",
   "execution_count": 26,
   "id": "36fdf603-a132-4c9f-952e-6347591fac7a",
   "metadata": {},
   "outputs": [
    {
     "name": "stdin",
     "output_type": "stream",
     "text": [
      "Enter your numbers: 25\n"
     ]
    },
    {
     "name": "stdout",
     "output_type": "stream",
     "text": [
      "you are fail\n"
     ]
    }
   ],
   "source": [
    "num=int(input(\"Enter your numbers:\"))\n",
    "\n",
    "if(num<0 or num>100):\n",
    "    print(\"Invalid number\")\n",
    "elif(num<=25):\n",
    "    print(\"you are fail\")\n",
    "elif(num<=50):\n",
    "    print(\"D grade\")\n",
    "elif(num<=60):\n",
    "    print(\"C grade\")\n",
    "elif(num<=80):\n",
    "    print(\"B grade\")\n",
    "else:\n",
    "    print(\"A grade\")"
   ]
  },
  {
   "cell_type": "markdown",
   "id": "fffbbf5f-69b6-4ef8-815d-220816047d47",
   "metadata": {},
   "source": [
    "## Methords of String"
   ]
  },
  {
   "cell_type": "code",
   "execution_count": 29,
   "id": "0d6a471a-1a57-4300-b692-8eb23a217e33",
   "metadata": {},
   "outputs": [
    {
     "name": "stdout",
     "output_type": "stream",
     "text": [
      "HELLO WORLD\n",
      "hello world\n",
      "Hello world\n",
      "Hello World\n",
      "4\n",
      "-1\n",
      "hello Python\n",
      "3\n",
      "hello\n",
      "hello\n",
      " worl\n"
     ]
    }
   ],
   "source": [
    "s = \"hello world\"\n",
    "print(s.upper())  # \"HELLO\"\n",
    "print(s.lower())  # \"hello\"\n",
    "print(s.capitalize())\n",
    "print(s.title())\n",
    "print(s.find(\"o\"))   # 4\n",
    "print(s.find(\"z\"))\n",
    "print(s.replace(\"world\", \"Python\"))\n",
    "print(s.count(\"l\"))  \n",
    "print(s[0:5])\n",
    "print(s[:5])\n",
    "print(s[-6:-1])"
   ]
  },
  {
   "cell_type": "code",
   "execution_count": null,
   "id": "c96206ca-371d-43e4-b9ae-0df8e4156db8",
   "metadata": {},
   "outputs": [],
   "source": []
  }
 ],
 "metadata": {
  "kernelspec": {
   "display_name": "Python 3 (ipykernel)",
   "language": "python",
   "name": "python3"
  },
  "language_info": {
   "codemirror_mode": {
    "name": "ipython",
    "version": 3
   },
   "file_extension": ".py",
   "mimetype": "text/x-python",
   "name": "python",
   "nbconvert_exporter": "python",
   "pygments_lexer": "ipython3",
   "version": "3.13.5"
  }
 },
 "nbformat": 4,
 "nbformat_minor": 5
}

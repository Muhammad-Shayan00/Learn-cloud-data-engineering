{
 "cells": [
  {
   "cell_type": "code",
   "execution_count": 2,
   "id": "c932f654",
   "metadata": {},
   "outputs": [
    {
     "name": "stdout",
     "output_type": "stream",
     "text": [
      "helw       orld\n"
     ]
    }
   ],
   "source": [
    "print(\"helw       orld\")"
   ]
  },
  {
   "cell_type": "code",
   "execution_count": null,
   "id": "3a8e7e83-ccc8-497b-96e4-487730bcad05",
   "metadata": {},
   "outputs": [],
   "source": []
  }
 ],
 "metadata": {
  "kernelspec": {
   "display_name": "Python 3 (ipykernel)",
   "language": "python",
   "name": "python3"
  },
  "language_info": {
   "codemirror_mode": {
    "name": "ipython",
    "version": 3
   },
   "file_extension": ".py",
   "mimetype": "text/x-python",
   "name": "python",
   "nbconvert_exporter": "python",
   "pygments_lexer": "ipython3",
   "version": "3.13.5"
  }
 },
 "nbformat": 4,
 "nbformat_minor": 5
}

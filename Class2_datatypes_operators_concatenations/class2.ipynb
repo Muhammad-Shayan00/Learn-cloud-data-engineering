{
 "cells": [
  {
   "cell_type": "markdown",
   "id": "000b5eec-952a-4ef5-9bf7-e17cd6b72c3c",
   "metadata": {},
   "source": [
    "### Class 2 \n"
   ]
  },
  {
   "cell_type": "markdown",
   "id": "15f924c4-9ee1-48d0-92be-9a01d1aefbe4",
   "metadata": {},
   "source": [
    " # Shourtcut for jupyter "
   ]
  },
  {
   "cell_type": "markdown",
   "id": "b130f5ec-4496-4417-a304-ced5dc86be91",
   "metadata": {
    "jupyter": {
     "source_hidden": true
    }
   },
   "source": [
    "ESC + M (to convert cell into markdone)\n",
    "\n",
    "ESC + r (to convert cell into raw)\n",
    "\n",
    "ESC + Y (to convert cell into Code)\n",
    "\n",
    "//# for heading\n",
    "\n",
    "ESC + A (to create cell above Code)\n",
    "\n",
    "ESC + B (to create cell below Code)\n",
    "\n",
    "dd (to delete cell )"
   ]
  },
  {
   "cell_type": "markdown",
   "id": "6929622d-d500-4014-8431-661d0631ee40",
   "metadata": {},
   "source": [
    "## Code"
   ]
  },
  {
   "cell_type": "code",
   "execution_count": null,
   "id": "bc34acbe-1934-43ac-9a5f-5ff7f151f5cf",
   "metadata": {},
   "outputs": [],
   "source": []
  },
  {
   "cell_type": "markdown",
   "id": "6c04ea5c-2e96-4466-a82b-85ed4ecbeb1a",
   "metadata": {},
   "source": [
    "## Data type"
   ]
  },
  {
   "cell_type": "code",
   "execution_count": 13,
   "id": "f18caffa-dacb-45d8-93c1-f8b9e788a6da",
   "metadata": {
    "collapsed": true,
    "jupyter": {
     "outputs_hidden": true,
     "source_hidden": true
    }
   },
   "outputs": [
    {
     "name": "stdout",
     "output_type": "stream",
     "text": [
      "shayan\n",
      "20\n",
      "83.5\n",
      "True\n",
      "<class 'str'>\n",
      "<class 'int'>\n",
      "<class 'float'>\n",
      "<class 'bool'>\n",
      "2048763586256\n"
     ]
    }
   ],
   "source": [
    "name = \"shayan\"\n",
    "age=20\n",
    "weight= 83.5\n",
    "is_present = True\n",
    "\n",
    "# to print variables\n",
    "\n",
    "print(name)\n",
    "print(age)\n",
    "print(weight)\n",
    "print(is_present)\n",
    "\n",
    "# to print type\n",
    "\n",
    "print(type(name))\n",
    "print(type(age))\n",
    "print(type(weight))\n",
    "print(type (is_present))\n",
    "\n",
    "# for find memory allocation\n",
    "\n",
    "print(id(name))\n",
    "\n"
   ]
  },
  {
   "cell_type": "markdown",
   "id": "938caaf1-f0b5-4d9e-8b35-0c58410a8e6f",
   "metadata": {},
   "source": [
    "## Operators"
   ]
  },
  {
   "cell_type": "markdown",
   "id": "13b9aa05-2997-4fd7-8fae-40f6f200f49d",
   "metadata": {
    "jupyter": {
     "source_hidden": true
    }
   },
   "source": [
    "# Arthemetic operator\n",
    "\n",
    "| Operator | Meaning             | Example  | Result |\n",
    "| -------- | ------------------- | -------- | ------ |\n",
    "| `+`      | Addition            | `5 + 2`  | `7`    |\n",
    "| `-`      | Subtraction         | `5 - 2`  | `3`    |\n",
    "| `*`      | Multiplication      | `5 * 2`  | `10`   |\n",
    "| `/`      | Division (float)    | `5 / 2`  | `2.5`  |\n",
    "| `//`     | Floor Division      | `5 // 2` | `2`    |\n",
    "| `%`      | Modulus (remainder) | `5 % 2`  | `1`    |\n",
    "| `**`     | Exponentiation      | `2 ** 3` | `8`    |\n"
   ]
  },
  {
   "cell_type": "markdown",
   "id": "4ba869c5-5ff5-4450-9619-a8b6ec9f7385",
   "metadata": {
    "jupyter": {
     "source_hidden": true
    }
   },
   "source": [
    "# Assignment operator\n",
    "\n",
    "| Operator | Meaning                 | Example                |\n",
    "| -------- | ----------------------- | ---------------------- |\n",
    "| `=`      | Assign                  | `x = 5`                |\n",
    "| `+=`     | Add and assign          | `x += 2` → `x = x + 2` |\n",
    "| `-=`     | Subtract and assign     | `x -= 2`               |\n",
    "| `*=`     | Multiply and assign     | `x *= 2`               |\n",
    "| `/=`     | Divide and assign       | `x /= 2`               |\n",
    "| `//=`    | Floor divide and assign | `x //= 2`              |\n",
    "| `%=`     | Modulus and assign      | `x %= 2`               |\n",
    "| `**=`    | Exponent and assign     | `x **= 2`              |\n"
   ]
  },
  {
   "cell_type": "markdown",
   "id": "db78744b-6bb2-4bf5-8e57-99f72b8c211d",
   "metadata": {
    "jupyter": {
     "source_hidden": true
    }
   },
   "source": [
    "# Comparition Operator\n",
    "\n",
    "| Operator | Meaning          | Example  | Result  |\n",
    "| -------- | ---------------- | -------- | ------- |\n",
    "| `==`     | Equal to         | `5 == 5` | `True`  |\n",
    "| `!=`     | Not equal to     | `5 != 3` | `True`  |\n",
    "| `>`      | Greater than     | `5 > 3`  | `True`  |\n",
    "| `<`      | Less than        | `5 < 3`  | `False` |\n",
    "| `>=`     | Greater or equal | `5 >= 5` | `True`  |\n",
    "| `<=`     | Less or equal    | `3 <= 5` | `True`  |\n"
   ]
  },
  {
   "cell_type": "markdown",
   "id": "f6736c51-d5cb-4081-a51f-89ea0fe1256d",
   "metadata": {
    "jupyter": {
     "source_hidden": true
    }
   },
   "source": [
    "# logical Operator\n",
    "\n",
    "| Operator | Meaning      | Example          | Result  |\n",
    "| -------- | ------------ | ---------------- | ------- |\n",
    "| `and`    | Both True    | `True and False` | `False` |\n",
    "| `or`     | At least one | `True or False`  | `True`  |\n",
    "| `not`    | Reverse      | `not True`       | `False` |\n"
   ]
  },
  {
   "cell_type": "markdown",
   "id": "6edfed76-e80c-4cca-bd26-f9e0604a420d",
   "metadata": {
    "jupyter": {
     "source_hidden": true
    }
   },
   "source": [
    "# Bitwise operator\n",
    "\n",
    "| Operator | Meaning     | Example         |     |         |\n",
    "| -------- | ----------- | --------------- | --- | ------- |\n",
    "| `&`      | AND         | `5 & 3` → `1`   |     |         |\n",
    "| \\`       | \\`          | OR              | \\`5 | 3`→`7\\` |\n",
    "| `^`      | XOR         | `5 ^ 3` → `6`   |     |         |\n",
    "| `~`      | NOT         | `~5`            |     |         |\n",
    "| `<<`     | Left shift  | `5 << 1` → `10` |     |         |\n",
    "| `>>`     | Right shift | `5 >> 1` → `2`  |     |         |\n"
   ]
  },
  {
   "cell_type": "markdown",
   "id": "ce126dab-4012-4bb0-bf6f-1c539247dcba",
   "metadata": {},
   "source": [
    "## Concatenation "
   ]
  },
  {
   "cell_type": "code",
   "execution_count": 24,
   "id": "62a6e566-3cb7-4d60-ac8c-05fca6319118",
   "metadata": {},
   "outputs": [
    {
     "name": "stdout",
     "output_type": "stream",
     "text": [
      "Shayan Mushtaq \n",
      "Shayan Mushtaq \n"
     ]
    }
   ],
   "source": [
    "name1=\"Shayan\"\n",
    "name2=\"Mushtaq \"\n",
    "\n",
    "#using operator\n",
    "\n",
    "full_name=name1 + \" \"+ name2\n",
    "print(full_name)\n",
    "\n",
    "#using f string\n",
    "\n",
    "full_name2=f\"{name1} {name2}\"\n",
    "print(full_name2)\n",
    "\n"
   ]
  },
  {
   "cell_type": "code",
   "execution_count": null,
   "id": "939b5eb5-c706-42c7-b132-da9e2bdb30e6",
   "metadata": {},
   "outputs": [],
   "source": []
  }
 ],
 "metadata": {
  "kernelspec": {
   "display_name": "Python 3 (ipykernel)",
   "language": "python",
   "name": "python3"
  },
  "language_info": {
   "codemirror_mode": {
    "name": "ipython",
    "version": 3
   },
   "file_extension": ".py",
   "mimetype": "text/x-python",
   "name": "python",
   "nbconvert_exporter": "python",
   "pygments_lexer": "ipython3",
   "version": "3.13.5"
  }
 },
 "nbformat": 4,
 "nbformat_minor": 5
}
